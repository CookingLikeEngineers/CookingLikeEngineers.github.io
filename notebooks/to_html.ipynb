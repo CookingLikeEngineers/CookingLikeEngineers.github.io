{
 "cells": [
  {
   "cell_type": "code",
   "execution_count": 1,
   "id": "286004ae-d777-43de-b7cb-d8d831c8064b",
   "metadata": {
    "tags": []
   },
   "outputs": [],
   "source": [
    "input_path='../inputs/230105_recipes.xlsx'\n",
    "output_dir_path='../htmls/'\n",
    "output_path='../index.html'"
   ]
  },
  {
   "cell_type": "code",
   "execution_count": 2,
   "id": "039d7959-8016-4160-9ce2-1db90aceff18",
   "metadata": {
    "tags": []
   },
   "outputs": [],
   "source": [
    "from pathlib import Path\n",
    "Path(output_dir_path).mkdir(exist_ok=True)"
   ]
  },
  {
   "cell_type": "code",
   "execution_count": 3,
   "id": "53127e5a-dcc4-43e7-962e-4ac5aefc34db",
   "metadata": {
    "tags": []
   },
   "outputs": [
    {
     "data": {
      "text/plain": [
       "['Breakfast-Pancakes',\n",
       " 'Meal-Lasagne',\n",
       " 'Meal-Pizza dough',\n",
       " 'Meal-Pumpkin soup',\n",
       " 'Snacks-Banana muffins',\n",
       " 'Snacks-Cookies',\n",
       " 'Snacks-Scones']"
      ]
     },
     "execution_count": 3,
     "metadata": {},
     "output_type": "execute_result"
    }
   ],
   "source": [
    "import pandas as pd\n",
    "sheet_names = sorted(list(set(pd.ExcelFile(input_path).sheet_names) - set(['template'])))\n",
    "sheet_names"
   ]
  },
  {
   "cell_type": "code",
   "execution_count": 4,
   "id": "5a9aad02-4770-4e5b-92f2-aee7666fc8f3",
   "metadata": {
    "tags": []
   },
   "outputs": [
    {
     "data": {
      "text/plain": [
       "{'Breakfast': ['Breakfast-Pancakes'],\n",
       " 'Meal': ['Meal-Lasagne', 'Meal-Pizza dough', 'Meal-Pumpkin soup'],\n",
       " 'Snacks': ['Snacks-Banana muffins', 'Snacks-Cookies', 'Snacks-Scones']}"
      ]
     },
     "execution_count": 4,
     "metadata": {},
     "output_type": "execute_result"
    }
   ],
   "source": [
    "sections=pd.Series(dict(zip(sheet_names,[s.split('-')[0] for s in sheet_names]))).reset_index().groupby(0)['index'].agg(list).to_dict()\n",
    "sections"
   ]
  },
  {
   "cell_type": "code",
   "execution_count": 5,
   "id": "fb7c68cd-1348-4483-9dd8-b4e4d8cc2155",
   "metadata": {
    "tags": []
   },
   "outputs": [],
   "source": [
    "from xlsx2html import xlsx2html\n",
    "from bs4 import BeautifulSoup\n",
    "text_sections=[]\n",
    "for section in sections:\n",
    "    text_tables=[]\n",
    "    for k in sections[section]:\n",
    "        xlsx2html(input_path, f\"{output_dir_path}/{k}.html\",sheet=k)\n",
    "        ## title\n",
    "        text_tables+=[f'<button type=\"button\" class=\"collapsible\">'+k.split('-')[1]+'</button>']\n",
    "        with open(f\"{output_dir_path}/{k}.html\") as fp:\n",
    "            _table=str(BeautifulSoup(fp, 'html.parser').find('table'))\n",
    "        text_tables.append('<div class=\"content\">'+_table.replace(\"<table\",'<table class=\"recipe_card\"')+'</div>')\n",
    "        # break\n",
    "    text_sections.append(f'<button type=\"button\" class=\"collapsible\">{section}</button><div class=\"content\">'+(''.join(text_tables))+'</div>')"
   ]
  },
  {
   "cell_type": "code",
   "execution_count": 6,
   "id": "15099670-d294-49b9-9fde-5f5aece9a105",
   "metadata": {
    "tags": []
   },
   "outputs": [],
   "source": [
    "text_page=(\"\"\"<!DOCTYPE html>\n",
    "<html lang=\"en\">\n",
    "<head>\n",
    "    <meta charset=\"UTF-8\">\n",
    "    <title>Cooking For Engineers</title>\n",
    "    <link href=\"css/global.css\" rel=\"stylesheet\"/>\n",
    "    <link href=\"css/sections.css\" rel=\"stylesheet\"/>\n",
    "    <link rel=\"stylesheet\" href=\"https://fonts.googleapis.com/css?family=Share+Tech+Mono\">\n",
    "    <link href=\"https://fonts.googleapis.com/css?family=Lobster\" rel=\"stylesheet\"/>\n",
    "</head>\n",
    "<body>\n",
    "  <div class=\"container\">\n",
    "      <div class=\"title\">\n",
    "        <h1 style=\"font-size:xx-large;text-align: center;font-family: Lobster !important;\">🍳 Cooking for engineers 👷🏻‍♀️</h1>\n",
    "      </div>\n",
    "      <div class=\"scale\">\n",
    "       <label for=\"multiplier\">Select a multiplier:</label>\n",
    "       <select id=\"multiplier\" onchange=\"multiplyValues()\">\n",
    "         <option value=\"0.5\">0.5x</option>\n",
    "         <option selected value=\"1\">1x</option>\n",
    "         <option value=\"2\">2x</option>\n",
    "         <option value=\"3\">3x</option>\n",
    "         <option value=\"5\">5x</option>\n",
    "       </select>\n",
    "      </div>\n",
    "      <div>\n",
    "        <span id=\"scale_status\">Status: 1x</span><button onClick=\"window.location.reload();\">Reset</button>\n",
    "      </div>\n",
    "      <div id=\"recipes\" class=\"recipes\">\n",
    "\"\"\"\n",
    "+''.join(text_sections)\n",
    "+\n",
    "\"\"\"\n",
    "    </div>\n",
    "</div>\n",
    "    <script src=\"js/sections.js\"></script>\n",
    "    <script src=\"js/math.js\"></script>\n",
    "</body>\n",
    "</html>\"\"\")"
   ]
  },
  {
   "cell_type": "code",
   "execution_count": 7,
   "id": "471bbc9c-20f9-4606-a975-6baee33b073a",
   "metadata": {
    "tags": []
   },
   "outputs": [],
   "source": [
    "soup = BeautifulSoup(text_page, 'html.parser')"
   ]
  },
  {
   "cell_type": "code",
   "execution_count": 8,
   "id": "0638e3db-f649-435e-89a3-e76ae09781e5",
   "metadata": {
    "tags": []
   },
   "outputs": [],
   "source": [
    "with open(output_path,'w') as f:\n",
    "    f.write(soup.prettify())"
   ]
  }
 ],
 "metadata": {
  "kernelspec": {
   "display_name": "html",
   "language": "python",
   "name": "html"
  },
  "language_info": {
   "codemirror_mode": {
    "name": "ipython",
    "version": 3
   },
   "file_extension": ".py",
   "mimetype": "text/x-python",
   "name": "python",
   "nbconvert_exporter": "python",
   "pygments_lexer": "ipython3",
   "version": "3.12.0"
  }
 },
 "nbformat": 4,
 "nbformat_minor": 5
}
